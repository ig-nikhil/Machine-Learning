{
 "cells": [
  {
   "cell_type": "code",
   "execution_count": 65,
   "id": "7202cc94-f6ca-4d3c-b6da-7df65da50ccc",
   "metadata": {},
   "outputs": [],
   "source": [
    "import numpy as np\n",
    "import pandas as pd\n",
    "import matplotlib.pyplot as plt"
   ]
  },
  {
   "cell_type": "code",
   "execution_count": 66,
   "id": "29f40d36-7e08-4aaa-a6dd-de1e43d26c70",
   "metadata": {},
   "outputs": [],
   "source": [
    "training_data=pd.read_csv('Table5-2.csv')\n",
    "df = pd.read_csv(\"Table5-2.csv\")"
   ]
  },
  {
   "cell_type": "code",
   "execution_count": 67,
   "id": "90ca8cda-cd07-4556-8514-22a37cdc43af",
   "metadata": {},
   "outputs": [
    {
     "data": {
      "text/html": [
       "<div>\n",
       "<style scoped>\n",
       "    .dataframe tbody tr th:only-of-type {\n",
       "        vertical-align: middle;\n",
       "    }\n",
       "\n",
       "    .dataframe tbody tr th {\n",
       "        vertical-align: top;\n",
       "    }\n",
       "\n",
       "    .dataframe thead th {\n",
       "        text-align: right;\n",
       "    }\n",
       "</style>\n",
       "<table border=\"1\" class=\"dataframe\">\n",
       "  <thead>\n",
       "    <tr style=\"text-align: right;\">\n",
       "      <th></th>\n",
       "      <th>ID\\t</th>\n",
       "      <th>Speed</th>\n",
       "      <th>Agility</th>\n",
       "      <th>Draft</th>\n",
       "    </tr>\n",
       "  </thead>\n",
       "  <tbody>\n",
       "    <tr>\n",
       "      <th>0</th>\n",
       "      <td>1</td>\n",
       "      <td>2.50</td>\n",
       "      <td>6.00</td>\n",
       "      <td>no</td>\n",
       "    </tr>\n",
       "    <tr>\n",
       "      <th>1</th>\n",
       "      <td>2</td>\n",
       "      <td>3.75</td>\n",
       "      <td>8.00</td>\n",
       "      <td>no</td>\n",
       "    </tr>\n",
       "    <tr>\n",
       "      <th>2</th>\n",
       "      <td>3</td>\n",
       "      <td>2.25</td>\n",
       "      <td>5.50</td>\n",
       "      <td>no</td>\n",
       "    </tr>\n",
       "    <tr>\n",
       "      <th>3</th>\n",
       "      <td>4</td>\n",
       "      <td>3.25</td>\n",
       "      <td>8.25</td>\n",
       "      <td>no</td>\n",
       "    </tr>\n",
       "    <tr>\n",
       "      <th>4</th>\n",
       "      <td>5</td>\n",
       "      <td>2.75</td>\n",
       "      <td>7.50</td>\n",
       "      <td>no</td>\n",
       "    </tr>\n",
       "    <tr>\n",
       "      <th>5</th>\n",
       "      <td>6</td>\n",
       "      <td>4.50</td>\n",
       "      <td>5.00</td>\n",
       "      <td>no</td>\n",
       "    </tr>\n",
       "    <tr>\n",
       "      <th>6</th>\n",
       "      <td>7</td>\n",
       "      <td>3.50</td>\n",
       "      <td>5.25</td>\n",
       "      <td>no</td>\n",
       "    </tr>\n",
       "    <tr>\n",
       "      <th>7</th>\n",
       "      <td>8</td>\n",
       "      <td>3.00</td>\n",
       "      <td>3.25</td>\n",
       "      <td>no</td>\n",
       "    </tr>\n",
       "    <tr>\n",
       "      <th>8</th>\n",
       "      <td>9</td>\n",
       "      <td>4.00</td>\n",
       "      <td>4.00</td>\n",
       "      <td>no</td>\n",
       "    </tr>\n",
       "    <tr>\n",
       "      <th>9</th>\n",
       "      <td>10</td>\n",
       "      <td>4.25</td>\n",
       "      <td>3.75</td>\n",
       "      <td>no</td>\n",
       "    </tr>\n",
       "    <tr>\n",
       "      <th>10</th>\n",
       "      <td>11</td>\n",
       "      <td>2.00</td>\n",
       "      <td>2.00</td>\n",
       "      <td>no</td>\n",
       "    </tr>\n",
       "    <tr>\n",
       "      <th>11</th>\n",
       "      <td>12</td>\n",
       "      <td>5.00</td>\n",
       "      <td>2.50</td>\n",
       "      <td>no</td>\n",
       "    </tr>\n",
       "    <tr>\n",
       "      <th>12</th>\n",
       "      <td>13</td>\n",
       "      <td>8.25</td>\n",
       "      <td>8.50</td>\n",
       "      <td>no</td>\n",
       "    </tr>\n",
       "    <tr>\n",
       "      <th>13</th>\n",
       "      <td>14</td>\n",
       "      <td>5.75</td>\n",
       "      <td>8.75</td>\n",
       "      <td>yes</td>\n",
       "    </tr>\n",
       "    <tr>\n",
       "      <th>14</th>\n",
       "      <td>15</td>\n",
       "      <td>4.75</td>\n",
       "      <td>6.25</td>\n",
       "      <td>yes</td>\n",
       "    </tr>\n",
       "    <tr>\n",
       "      <th>15</th>\n",
       "      <td>16</td>\n",
       "      <td>5.50</td>\n",
       "      <td>6.75</td>\n",
       "      <td>yes</td>\n",
       "    </tr>\n",
       "    <tr>\n",
       "      <th>16</th>\n",
       "      <td>17</td>\n",
       "      <td>5.25</td>\n",
       "      <td>9.50</td>\n",
       "      <td>yes</td>\n",
       "    </tr>\n",
       "    <tr>\n",
       "      <th>17</th>\n",
       "      <td>18</td>\n",
       "      <td>7.00</td>\n",
       "      <td>4.25</td>\n",
       "      <td>yes</td>\n",
       "    </tr>\n",
       "    <tr>\n",
       "      <th>18</th>\n",
       "      <td>19</td>\n",
       "      <td>7.50</td>\n",
       "      <td>8.00</td>\n",
       "      <td>yes</td>\n",
       "    </tr>\n",
       "    <tr>\n",
       "      <th>19</th>\n",
       "      <td>20</td>\n",
       "      <td>7.25</td>\n",
       "      <td>5.75</td>\n",
       "      <td>yes</td>\n",
       "    </tr>\n",
       "  </tbody>\n",
       "</table>\n",
       "</div>"
      ],
      "text/plain": [
       "    ID\\t      Speed      Agility     Draft\n",
       "0        1       2.50         6.00      no\n",
       "1        2       3.75         8.00      no\n",
       "2        3       2.25         5.50      no\n",
       "3        4       3.25         8.25      no\n",
       "4        5       2.75         7.50      no\n",
       "5        6       4.50         5.00      no\n",
       "6        7       3.50         5.25      no\n",
       "7        8       3.00         3.25      no\n",
       "8        9       4.00         4.00      no\n",
       "9       10       4.25         3.75      no\n",
       "10      11       2.00         2.00      no\n",
       "11      12       5.00         2.50      no\n",
       "12      13       8.25         8.50      no\n",
       "13      14       5.75         8.75     yes\n",
       "14      15       4.75         6.25     yes\n",
       "15      16       5.50         6.75     yes\n",
       "16      17       5.25         9.50     yes\n",
       "17      18       7.00         4.25     yes\n",
       "18      19       7.50         8.00     yes\n",
       "19      20       7.25         5.75     yes"
      ]
     },
     "execution_count": 67,
     "metadata": {},
     "output_type": "execute_result"
    }
   ],
   "source": [
    "df"
   ]
  },
  {
   "cell_type": "code",
   "execution_count": 68,
   "id": "0529a5e1-e6a5-4942-a040-d3c8b8d48146",
   "metadata": {},
   "outputs": [
    {
     "name": "stdout",
     "output_type": "stream",
     "text": [
      "[[1 2.5 6.0 '  no']\n",
      " [2 3.75 8.0 '  no']\n",
      " [3 2.25 5.5 '  no']\n",
      " [4 3.25 8.25 '  no']\n",
      " [5 2.75 7.5 '  no']\n",
      " [6 4.5 5.0 '  no']\n",
      " [7 3.5 5.25 '  no']\n",
      " [8 3.0 3.25 '  no']\n",
      " [9 4.0 4.0 '  no']\n",
      " [10 4.25 3.75 '  no']\n",
      " [11 2.0 2.0 '  no']\n",
      " [12 5.0 2.5 '  no']\n",
      " [13 8.25 8.5 '  no']\n",
      " [14 5.75 8.75 '  yes']\n",
      " [15 4.75 6.25 '  yes']\n",
      " [16 5.5 6.75 '  yes']\n",
      " [17 5.25 9.5 '  yes']\n",
      " [18 7.0 4.25 '  yes']\n",
      " [19 7.5 8.0 '  yes']\n",
      " [20 7.25 5.75 '  yes']]\n"
     ]
    }
   ],
   "source": [
    "training_data=np.array(training_data)\n",
    "print(training_data)\n",
    "\n",
    "class_yes=[]\n",
    "class_no=[]\n",
    "\n",
    "for i in range(len(training_data)):\n",
    "    if(training_data[i,3]=='  no'):\n",
    "        class_no.append([training_data[i,1],training_data[i,2]])\n",
    "    else:\n",
    "        class_yes.append([training_data[i,1],training_data[i,2]])\n",
    "\n",
    "class_no=np.array(class_no)\n",
    "class_yes=np.array(class_yes)"
   ]
  },
  {
   "cell_type": "code",
   "execution_count": 42,
   "id": "c1c8e067-0809-4ffc-9150-d3e23c16faeb",
   "metadata": {},
   "outputs": [
    {
     "data": {
      "text/plain": [
       "array([[2.5 , 6.  ],\n",
       "       [3.75, 8.  ],\n",
       "       [2.25, 5.5 ],\n",
       "       [3.25, 8.25],\n",
       "       [2.75, 7.5 ],\n",
       "       [4.5 , 5.  ],\n",
       "       [3.5 , 5.25],\n",
       "       [3.  , 3.25],\n",
       "       [4.  , 4.  ],\n",
       "       [4.25, 3.75],\n",
       "       [2.  , 2.  ],\n",
       "       [5.  , 2.5 ],\n",
       "       [8.25, 8.5 ]])"
      ]
     },
     "execution_count": 42,
     "metadata": {},
     "output_type": "execute_result"
    }
   ],
   "source": [
    "class_no"
   ]
  },
  {
   "cell_type": "code",
   "execution_count": 43,
   "id": "461b8898-e92b-4229-a8f9-4cb7e9dcfe18",
   "metadata": {},
   "outputs": [
    {
     "data": {
      "text/plain": [
       "array([[5.75, 8.75],\n",
       "       [4.75, 6.25],\n",
       "       [5.5 , 6.75],\n",
       "       [5.25, 9.5 ],\n",
       "       [7.  , 4.25],\n",
       "       [7.5 , 8.  ],\n",
       "       [7.25, 5.75]])"
      ]
     },
     "execution_count": 43,
     "metadata": {},
     "output_type": "execute_result"
    }
   ],
   "source": [
    "class_yes"
   ]
  },
  {
   "cell_type": "code",
   "execution_count": 87,
   "id": "55a8d91e-0b74-46d5-b9ff-3f27233e49c8",
   "metadata": {},
   "outputs": [
    {
     "name": "stdout",
     "output_type": "stream",
     "text": [
      "[2, 2.5, 3.0, 3.5, 4.0, 4.5, 5.0, 5.5, 6.0, 6.5, 7.0, 7.5, 8.0]\n",
      "[2, 2.1, 2.2, 2.3, 2.4, 2.5, 2.6, 2.7, 2.8, 2.9, 3.0, 3.1, 3.2, 3.3, 3.4, 3.5, 3.6, 3.7, 3.8, 3.9, 4.0, 4.1, 4.2, 4.3, 4.4, 4.5, 4.6, 4.7, 4.8, 4.9, 5.0, 5.1, 5.2, 5.3, 5.4, 5.5, 5.6, 5.7, 5.8, 5.9, 6.0, 6.1, 6.2, 6.3, 6.4, 6.5, 6.6, 6.7, 6.8, 6.9, 7.0, 7.1, 7.2, 7.3, 7.4, 7.5, 7.6, 7.7, 7.8, 7.9, 8.0]\n"
     ]
    }
   ],
   "source": [
    "x1=[]\n",
    "x2=[]\n",
    "\n",
    "i=2\n",
    "while i<=8:\n",
    "    x1.append(i)\n",
    "    i+=0.5\n",
    "print(x1)\n",
    "\n",
    "i=2\n",
    "while i<=8:\n",
    "    x2.append(i)\n",
    "    i = np.round(i+ 0.1,2)\n",
    "print(x2)\n",
    "\n",
    "x1,x2=np.meshgrid(x1,x2)\n",
    "validation=np.column_stack((x1.ravel(),x2.ravel()))"
   ]
  },
  {
   "cell_type": "code",
   "execution_count": 89,
   "id": "ef5ebc84-c76e-44bb-9ddb-b34b9fa09a91",
   "metadata": {},
   "outputs": [
    {
     "data": {
      "text/plain": [
       "(793, 2)"
      ]
     },
     "execution_count": 89,
     "metadata": {},
     "output_type": "execute_result"
    }
   ],
   "source": [
    "validation.shape"
   ]
  },
  {
   "cell_type": "code",
   "execution_count": 62,
   "id": "f1e1c2b1-8a38-4718-9ec0-c16541c4f90d",
   "metadata": {},
   "outputs": [
    {
     "data": {
      "text/plain": [
       "<matplotlib.collections.PathCollection at 0x7f261a38ac20>"
      ]
     },
     "execution_count": 62,
     "metadata": {},
     "output_type": "execute_result"
    },
    {
     "data": {
      "image/png": "[encoded data removed]",
      "text/plain": [
       "<Figure size 640x480 with 1 Axes>"
      ]
     },
     "metadata": {},
     "output_type": "display_data"
    }
   ],
   "source": [
    "plt.scatter(validation[:,0],validation[:,1],s=5,color='black')\n",
    "plt.scatter(class_no[:,0],class_no[:,1],s=10,color='blue')\n",
    "plt.scatter(class_yes[:,0],class_yes[:,1],s=10,color='red')"
   ]
  },
  {
   "cell_type": "code",
   "execution_count": 76,
   "id": "a67ba7a8-0018-43c3-af89-4fc43498af94",
   "metadata": {},
   "outputs": [
    {
     "data": {
      "image/png": "[encoded data removed]",
      "text/plain": [
       "<Figure size 640x480 with 1 Axes>"
      ]
     },
     "metadata": {},
     "output_type": "display_data"
    }
   ],
   "source": [
    "for pt in validation:\n",
    "    dist = np.linalg.norm(pt - np.concatenate((class_yes,class_no)), axis=1)\n",
    "    min_index = np.argmin(dist)\n",
    "    if (dist[min_index] == dist[np.argsort(dist)[1]]  ):\n",
    "        color='black'\n",
    "    else:\n",
    "        if min_index < len(class_yes):\n",
    "            color = 'red'\n",
    "        else:\n",
    "            color = 'blue' \n",
    "    plt.scatter(pt[0], pt[1], color=color,s=5)\n",
    "\n",
    "plt.scatter(class_yes[:, 0], class_yes[:, 1], color='red', label='Yes',s=5)\n",
    "plt.scatter(class_no[:, 0], class_no[:, 1], color='blue', label='No',s=5)\n",
    "\n",
    "plt.xlabel('X1')\n",
    "plt.ylabel('X2')\n",
    "plt.title('Voronoi Tessellation')\n",
    "plt.show()"
   ]
  },
  {
   "cell_type": "code",
   "execution_count": 95,
   "id": "c4540067-1750-46d4-8fd0-bd7b018daa03",
   "metadata": {},
   "outputs": [
    {
     "name": "stdin",
     "output_type": "stream",
     "text": [
      "Enter test sample (x1,x2):  5.5,5.5\n"
     ]
    },
    {
     "name": "stdout",
     "output_type": "stream",
     "text": [
      "Predicted class for test sample is: Yes\n"
     ]
    }
   ],
   "source": [
    "test_sample = np.array(input(\"Enter test sample (x1,x2): \").split(','), dtype=float)\n",
    "distances = np.linalg.norm(test_sample - np.concatenate((class_yes, class_no)), axis=1)\n",
    "min_index = np.argmin(distances)\n",
    "if distances[min_index] == distances[np.argsort(distances)[1]]:\n",
    "    print(\"Neutral.\")\n",
    "else:\n",
    "    if min_index < len(class_yes):\n",
    "        predicted = 'Yes'\n",
    "    else:\n",
    "        predicted = 'No'\n",
    "    print(\"Predicted class for test sample is:\", predicted)"
   ]
  },
  {
   "cell_type": "code",
   "execution_count": 86,
   "id": "5ba779f7-3054-47f7-a375-d31b753349c1",
   "metadata": {},
   "outputs": [
    {
     "name": "stderr",
     "output_type": "stream",
     "text": [
      "/tmp/ipykernel_4616/802690032.py:6: RuntimeWarning: divide by zero encountered in divide\n",
      "  weights = 1 / (distances[nearest_indices] ** 2)\n"
     ]
    },
    {
     "data": {
      "image/png": "[encoded data removed]",
      "text/plain": [
       "<Figure size 640x480 with 1 Axes>"
      ]
     },
     "metadata": {},
     "output_type": "display_data"
    }
   ],
   "source": [
    "k=3\n",
    "\n",
    "for pt in validation:\n",
    "    distances = np.linalg.norm(pt - np.concatenate((class_yes,class_no)), axis=1)\n",
    "    nearest_indices = np.argsort(distances)[:k]\n",
    "    weights = 1 / (distances[nearest_indices] ** 2)\n",
    "    class_Yes_weight = 0\n",
    "    class_No_weight = 0\n",
    "    j=0\n",
    "    for i in nearest_indices:\n",
    "        if i<len(class_yes):\n",
    "            class_Yes_weight+=weights[j]\n",
    "        else:\n",
    "            class_No_weight+=weights[j]\n",
    "        j+=1\n",
    "    if class_Yes_weight > class_No_weight:\n",
    "        color = 'red'\n",
    "    else:\n",
    "        color = 'blue'\n",
    "    plt.scatter(pt[0], pt[1], color=color,s=5)\n",
    "\n",
    "\n",
    "plt.scatter(class_no[:, 0], class_no[:, 1], color='red', label='Yes',s=5)\n",
    "plt.scatter(class_yes[:, 0], class_yes[:, 1], color='blue', label='No',s=5)\n",
    "plt.xlabel('X1')\n",
    "plt.ylabel('X2')\n",
    "plt.title('Weighted KNN')\n",
    "plt.show()"
   ]
  },
  {
   "cell_type": "code",
   "execution_count": 90,
   "id": "a9b016e4-3424-4237-b2c7-822032a228ba",
   "metadata": {},
   "outputs": [
    {
     "data": {
      "text/plain": [
       "array([[2. , 2. ],\n",
       "       [2.5, 2. ],\n",
       "       [3. , 2. ],\n",
       "       ...,\n",
       "       [7. , 8. ],\n",
       "       [7.5, 8. ],\n",
       "       [8. , 8. ]])"
      ]
     },
     "execution_count": 90,
     "metadata": {},
     "output_type": "execute_result"
    }
   ],
   "source": [
    "validation"
   ]
  },
  {
   "cell_type": "code",
   "execution_count": 92,
   "id": "106160a7-8e08-4d7e-a808-c95b4801d701",
   "metadata": {},
   "outputs": [],
   "source": [
    "x = validation[8,:]"
   ]
  },
  {
   "cell_type": "code",
   "execution_count": null,
   "id": "1ddba62e-aeca-490e-923a-08a6df5ae345",
   "metadata": {},
   "outputs": [],
   "source": []
  }
 ],
 "metadata": {
  "kernelspec": {
   "display_name": "Python 3 (ipykernel)",
   "language": "python",
   "name": "python3"
  },
  "language_info": {
   "codemirror_mode": {
    "name": "ipython",
    "version": 3
   },
   "file_extension": ".py",
   "mimetype": "text/x-python",
   "name": "python",
   "nbconvert_exporter": "python",
   "pygments_lexer": "ipython3",
   "version": "3.10.12"
  }
 },
 "nbformat": 4,
 "nbformat_minor": 5
}
