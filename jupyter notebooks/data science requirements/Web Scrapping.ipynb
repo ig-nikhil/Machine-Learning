{
 "cells": [
  {
   "cell_type": "code",
   "execution_count": 5,
   "id": "8c26f479",
   "metadata": {},
   "outputs": [],
   "source": [
    "import pandas as pd\n",
    "import requests\n",
    "from bs4 import BeautifulSoup"
   ]
  },
  {
   "cell_type": "code",
   "execution_count": 11,
   "id": "33f5c4b2",
   "metadata": {},
   "outputs": [],
   "source": [
    "headers={'User-Agent':'Mozilla/5.0 (Windows NT 6.3; Win 64 ; x64) Apple WeKit /537.36(KHTML , like Gecko) Chrome/80.0.3987.162 Safari/537.36'}\n",
    "webpage = requests.get('https://www.ambitionbox.com/list-of-companies?page=1',headers=headers)"
   ]
  },
  {
   "cell_type": "code",
   "execution_count": 15,
   "id": "cb9e1724",
   "metadata": {},
   "outputs": [],
   "source": [
    "website_code = webpage.text # it returns the the whole html code of  the website "
   ]
  },
  {
   "cell_type": "code",
   "execution_count": 17,
   "id": "41c31e13",
   "metadata": {},
   "outputs": [],
   "source": [
    "soup = BeautifulSoup(website_code)"
   ]
  },
  {
   "cell_type": "code",
   "execution_count": 43,
   "id": "5425ca31",
   "metadata": {},
   "outputs": [
    {
     "data": {
      "text/plain": [
       "[<div class=\"cont\"><div class=\"list-item\" id=\"contribute-button\"><div class=\"prpl-btn-crv\"><span class=\"plus\">+</span> Contribute\n",
       " \t\t\t\t\t\t\t</div> <!-- --></div></div>]"
      ]
     },
     "execution_count": 43,
     "metadata": {},
     "output_type": "execute_result"
    }
   ],
   "source": [
    "soup.find_all('div',class_ = 'cont')\n"
   ]
  },
  {
   "cell_type": "code",
   "execution_count": null,
   "id": "ad636e39",
   "metadata": {},
   "outputs": [],
   "source": []
  }
 ],
 "metadata": {
  "kernelspec": {
   "display_name": "Python 3 (ipykernel)",
   "language": "python",
   "name": "python3"
  },
  "language_info": {
   "codemirror_mode": {
    "name": "ipython",
    "version": 3
   },
   "file_extension": ".py",
   "mimetype": "text/x-python",
   "name": "python",
   "nbconvert_exporter": "python",
   "pygments_lexer": "ipython3",
   "version": "3.11.3"
  }
 },
 "nbformat": 4,
 "nbformat_minor": 5
}
